{
 "cells": [
  {
   "cell_type": "markdown",
   "metadata": {},
   "source": [
    "First we have to import launch_mapdl to create an mapdl-object variable mapdl.\n",
    "We can print mapdl, to see if everything worked out and which MAPDL-Version is used."
   ]
  },
  {
   "cell_type": "code",
   "execution_count": 1,
   "metadata": {
    "pycharm": {
     "name": "#%%\n"
    }
   },
   "outputs": [
    {
     "name": "stdout",
     "output_type": "stream",
     "text": [
      "Product:         ANSYS Academic Research\n",
      "MAPDL Version:   RELEASE  Release 19.1      BUILD 19.1      UPDATE 20180418\n",
      "PyMAPDL Version: 0.58.8\n",
      "\n"
     ]
    }
   ],
   "source": [
    "# not supported by pycharm - only use inside original jupyter (terminal: jupyter notebook)\n",
    "# import pyvista\n",
    "# pyvista.rcParams['use_ipyvtk'] = True\n",
    "\n",
    "import numpy as np\n",
    "from ansys.mapdl.core import launch_mapdl\n",
    "mapdl = launch_mapdl()\n",
    "print(mapdl)  # show ANSYS version and PyMAPDL version"
   ]
  },
  {
   "cell_type": "markdown",
   "metadata": {
    "pycharm": {
     "name": "#%% md\n"
    }
   },
   "source": [
    "Now we define variables for the beam (geometry, material data) and the load/moment"
   ]
  },
  {
   "cell_type": "code",
   "execution_count": 2,
   "metadata": {
    "pycharm": {
     "name": "#%%\n"
    }
   },
   "outputs": [],
   "source": [
    "length = 20\n",
    "height = 5\n",
    "load = 1\n",
    "moment = 1"
   ]
  },
  {
   "cell_type": "markdown",
   "metadata": {
    "pycharm": {
     "name": "#%% md\n"
    }
   },
   "source": [
    "Now we create the geometry of a simple 2D bending beam ..."
   ]
  },
  {
   "cell_type": "code",
   "execution_count": 3,
   "metadata": {
    "pycharm": {
     "name": "#%%\n"
    },
    "scrolled": true
   },
   "outputs": [
    {
     "data": {
      "application/vnd.jupyter.widget-view+json": {
       "model_id": "e0005373e8b9462c84d4f0bc5aba8899",
       "version_major": 2,
       "version_minor": 0
      },
      "text/plain": [
       "ViewInteractiveWidget(height=768, layout=Layout(height='auto', width='100%'), width=1024)"
      ]
     },
     "metadata": {},
     "output_type": "display_data"
    },
    {
     "data": {
      "application/vnd.jupyter.widget-view+json": {
       "model_id": "b5182703265f439f931354d200b43787",
       "version_major": 2,
       "version_minor": 0
      },
      "text/plain": [
       "ViewInteractiveWidget(height=768, layout=Layout(height='auto', width='100%'), width=1024)"
      ]
     },
     "metadata": {},
     "output_type": "display_data"
    },
    {
     "data": {
      "application/vnd.jupyter.widget-view+json": {
       "model_id": "a9892b706b3d4ddf9d518a26d5ca3cb4",
       "version_major": 2,
       "version_minor": 0
      },
      "text/plain": [
       "ViewInteractiveWidget(height=768, layout=Layout(height='auto', width='100%'), width=1024)"
      ]
     },
     "metadata": {},
     "output_type": "display_data"
    },
    {
     "name": "stdout",
     "output_type": "stream",
     "text": [
      "MAPDL Mesh\n",
      "  Number of Nodes:              8958\n",
      "  Number of Elements:           1683\n",
      "  Number of Element Types:      1\n",
      "  Number of Node Components:    1\n",
      "  Number of Element Components: 0\n",
      "\n"
     ]
    }
   ],
   "source": [
    "mapdl.prep7()\n",
    "\n",
    "# k0 = mapdl.k(\"\", 0, 0, 0)\n",
    "# k1 = mapdl.k(\"\", length, 0, 0)\n",
    "# k2 = mapdl.k(\"\", length, height, 0)\n",
    "# k3 = mapdl.k(\"\", 0, height, 0)\n",
    "# a0 = mapdl.a(k0, k1, k2, k3)\n",
    "# cpos = mapdl.aplot(show_lines=True, line_width=5, show_bounds=True, cpos='xy')\n",
    "\n",
    "\n",
    "beam_rect_anum = mapdl.blc4(width=length, height=height)\n",
    "for x in np.linspace(length*0.1, length*0.9, 8):\n",
    "    mapdl.cyl4(xcenter=x, ycenter=height/2, rad1=length/32)\n",
    "mapdl.lplot(color_lines=True, cpos='xy')\n",
    "\n",
    "plate_holes = mapdl.asba(beam_rect_anum, 'all')\n",
    "mapdl.vext(plate_holes, dz=3)\n",
    "#mapdl.vplot(notebook=False)  #  open interacticve window\n",
    "mapdl.vplot()\n",
    "\n",
    "mapdl.et(1, 'SOLID186')\n",
    "mapdl.vsweep('ALL')\n",
    "mapdl.esize(0.1)\n",
    "mapdl.eplot() #vtk=False)\n",
    "print(mapdl.mesh)\n",
    "mapdl.exit()"
   ]
  },
  {
   "cell_type": "markdown",
   "metadata": {
    "pycharm": {
     "name": "#%% md\n"
    }
   },
   "source": [
    "How to use Latex:\n",
    "\n",
    "$$c = \\sqrt{a^2 + b^2}$$"
   ]
  },
  {
   "cell_type": "code",
   "execution_count": 4,
   "metadata": {
    "pycharm": {
     "name": "#%%#%%\n"
    }
   },
   "outputs": [],
   "source": [
    "# get an overview of Jupyter magic commands\n",
    "%lsmagic\n",
    "%quickref"
   ]
  },
  {
   "cell_type": "code",
   "execution_count": null,
   "outputs": [],
   "source": [
    "# validation guide data VM16\n",
    "E_beam = 30e6  # psi\n",
    "pr_beam = 0.0\n",
    "width = 10  # inch\n",
    "height = 2\n",
    "depth = 1\n",
    "M = 2000  # in-lb (cas1; target deflection = 0.005 [in], stress = 3000 [psi])\n",
    "F = 300  # lb  (case2; target deflection = 0.005, stress = 4050))\n",
    "# plane182 (plane183?)\n",
    "# FORMULAS FOR STRESS AND STRAIN, ROARK, 4TH ED.,PG. 104,106"
   ],
   "metadata": {
    "collapsed": false,
    "pycharm": {
     "name": "#%%\n"
    }
   }
  }
 ],
 "metadata": {
  "kernelspec": {
   "display_name": "Python 3",
   "language": "python",
   "name": "python3"
  },
  "language_info": {
   "codemirror_mode": {
    "name": "ipython",
    "version": 3
   },
   "file_extension": ".py",
   "mimetype": "text/x-python",
   "name": "python",
   "nbconvert_exporter": "python",
   "pygments_lexer": "ipython3",
   "version": "3.7.5"
  }
 },
 "nbformat": 4,
 "nbformat_minor": 1
}