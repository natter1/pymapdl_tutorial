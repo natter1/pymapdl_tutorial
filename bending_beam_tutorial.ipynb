{
 "cells": [
  {
   "cell_type": "markdown",
   "metadata": {
    "pycharm": {
     "name": "#%% md\n"
    }
   },
   "source": [
    "Bending Beam PyMAPDL tutorial\n",
    "=============================\n",
    "First we need to launch an MAPDL instance calling launch_mapdl(). The return value is an object used\n",
    "to access this instance via methods."
   ]
  },
  {
   "cell_type": "code",
   "execution_count": 9,
   "metadata": {},
   "outputs": [
    {
     "name": "stdout",
     "output_type": "stream",
     "text": [
      "Product:         ANSYS Academic Research\n",
      "MAPDL Version:   RELEASE  Release 19.1      BUILD 19.1      UPDATE 20180418\n",
      "PyMAPDL Version: 0.58.9\n",
      "\n"
     ]
    }
   ],
   "source": [
    "import numpy as np\n",
    "from ansys.mapdl.core import launch_mapdl\n",
    "from bending_beam import Beam, reset_mapdl, create_geometry_v1, beam_summary_string\n",
    "\n",
    "mapdl = launch_mapdl()\n",
    "print(mapdl)  # show ANSYS version and PyMAPDL version"
   ]
  },
  {
   "cell_type": "code",
   "execution_count": 10,
   "metadata": {
    "pycharm": {
     "name": "#%%\n"
    }
   },
   "outputs": [],
   "source": [
    "# clean up potential previous data inside MAPDL\n",
    "mapdl.finish()\n",
    "mapdl.clear()"
   ]
  },
  {
   "cell_type": "markdown",
   "metadata": {
    "pycharm": {
     "name": "#%% md\n"
    }
   },
   "source": [
    "Now we can define variables for the bending beam geometry and some kind of load."
   ]
  },
  {
   "cell_type": "code",
   "execution_count": 11,
   "metadata": {
    "pycharm": {
     "name": "#%% tags=\"hide-input\"\n"
    },
    "tags": [
     "hide-input"
    ]
   },
   "outputs": [
    {
     "data": {
      "text/plain": "<IPython.core.display.Markdown object>",
      "text/markdown": "$h = 2$ m  <br>$w = 10$ m<br>$E = 71000000000.0$ Pa<br>$\\nu = 0.3$"
     },
     "execution_count": 11,
     "metadata": {},
     "output_type": "execute_result"
    }
   ],
   "source": [
    "# --------------------------------------------------------------------------\n",
    "# ------------------------------ parameters --------------------------------\n",
    "# --------------------------------------------------------------------------\n",
    "# units SI [Pa, N, m, Nm]\n",
    "\n",
    "E_beam = Beam.E  # 70e9\n",
    "pr_beam = 0.0\n",
    "length = 0.1\n",
    "height = 0.02\n",
    "depth = 0.01\n",
    "M = 2000\n",
    "F = 3000\n",
    "\n",
    "et_num_beam = 1\n",
    "mat_num_beam = 1\n",
    "element_type_beam = \"plane_182\"  # more about element types later\n",
    "\n",
    "from IPython.display import Markdown as md\n",
    "md(beam_summary_string())"
   ]
  },
  {
   "cell_type": "markdown",
   "metadata": {
    "pycharm": {
     "name": "#%% md\n"
    }
   },
   "source": [
    "Lets start to give commands to MAPDL. Fist we define an element type to use for the beam and set\n",
    "material data E und PR (Poisson ratio)."
   ]
  },
  {
   "cell_type": "code",
   "execution_count": 12,
   "metadata": {
    "pycharm": {
     "name": "#%%\n"
    }
   },
   "outputs": [],
   "source": [
    "mapdl.prep7()\n",
    "mapdl.antype(\"static\")\n",
    "mapdl.et(itype=et_num_beam, ename=element_type_beam)\n",
    "# mapdl.keyopt(1, 1, 3)  # IMPLIFIED ENHANCED STRAIN FORMULATION\n",
    "mapdl.mp(\"ex\", mat=mat_num_beam, c0=E_beam)\n",
    "mapdl.mp(\"nuxy\", mat_num_beam, c0=pr_beam);"
   ]
  },
  {
   "cell_type": "markdown",
   "metadata": {
    "pycharm": {
     "name": "#%% md\n"
    }
   },
   "source": [
    "Now it's time to create the geometry."
   ]
  },
  {
   "cell_type": "code",
   "execution_count": 13,
   "metadata": {
    "pycharm": {
     "name": "#%%\n"
    }
   },
   "outputs": [
    {
     "name": "stdout",
     "output_type": "stream",
     "text": [
      "[1, 2, 3, 4, 5, 6]\n"
     ]
    },
    {
     "data": {
      "text/plain": "<PIL.Image.Image image mode=RGB size=1024x768 at 0x1D76C94DD48>",
      "image/png": "[encoded data removed]"
     },
     "metadata": {},
     "output_type": "display_data"
    },
    {
     "data": {
      "text/plain": "<pyvista.plotting.plotting.Plotter at 0x1d76d8c4308>"
     },
     "execution_count": 13,
     "metadata": {},
     "output_type": "execute_result"
    }
   ],
   "source": [
    "beam_nodes_x = 6\n",
    "beam_nodes_y = 2\n",
    "nodes = []\n",
    "for x in np.linspace(0, length, beam_nodes_x):\n",
    "    nodes.append(mapdl.n(x=x))\n",
    "print(nodes)\n",
    "mapdl.ngen(3, 10, node1=nodes[0], node2=nodes[-1], ninc=1, dy=height*0.5)\n",
    "mapdl.nplot(knum=True, cpos='xy')#, title =\"asd\")"
   ]
  },
  {
   "cell_type": "code",
   "execution_count": 14,
   "metadata": {
    "pycharm": {
     "name": "#%%\n"
    }
   },
   "outputs": [
    {
     "data": {
      "text/plain": "'GENERATE       5 TOTAL SETS OF ELEMENTS WITH NODE INCREMENT OF         1\\n   SET IS SELECTED ELEMENTS IN RANGE         1 TO         2 IN STEPS OF       1\\n\\n MAXIMUM ELEMENT NUMBER=        10'"
     },
     "execution_count": 14,
     "metadata": {},
     "output_type": "execute_result"
    }
   ],
   "source": [
    "e0 = mapdl.e(1, 2, 12, 11)\n",
    "e1 = mapdl.e(11, 12, 22, 21)\n",
    "mapdl.egen(5, ninc=1, iel1=e0, iel2=e1)\n",
    "#mapdl.open_gui()"
   ]
  },
  {
   "cell_type": "markdown",
   "metadata": {},
   "source": []
  },
  {
   "cell_type": "code",
   "execution_count": 15,
   "metadata": {
    "pycharm": {
     "name": "#%%\n"
    }
   },
   "outputs": [],
   "source": [
    "# VM16, CASE 1 - END MOMENT, ROARK, PAGE 106, NO. 9\n",
    "mapdl.d(1, \"all\", nend=21, ninc=10)\n",
    "# mapdl.f(6, \"fx\", 1000)\n",
    "# mapdl.f(26, \"fx\", -1000)\n",
    "\n",
    "# mapdl.f(16, \"mx\", 2000)\n",
    "# mapdl.outpr(\"nsol\", 1)\n",
    "# mapdl.outpr(\"esol\", 1)\n",
    "# mapdl.finish()\n",
    "# mapdl.run(\"/solu\")\n",
    "# mapdl.output(\"SCRATCH\")\n",
    "# mapdl.solve()\n",
    "# mapdl.post1()\n",
    "# mapdl.set(\"last\")\n",
    "# mapdl.graphics(\"power\")\n",
    "# mapdl.eshape(scale=1)\n",
    "# mapdl.view(1, 1, 1, 1)\n",
    "# mapdl.output()\n",
    "# bend_stress1 = mapdl.result.nodal_stress(0)[1].max()\n",
    "# u1 = mapdl.get_value(\"node\", 26, \"u\", \"y\")\n",
    "\n",
    "mapdl.exit()\n",
    "# FINI\n",
    "# /SOLU\n",
    "# /COM, VM16, CASE 2 - END LOAD, ROARK, PAGE 104, NO. 1\n",
    "# F,6,FX,,,16,10\n",
    "# F,6,FY,150,,16,10\n",
    "# /OUT,SCRATCH\n",
    "# SOLVE\n",
    "# FINISH\n",
    "# /POST1\n",
    "# SET,LAST\n",
    "# /GRAPHICS,POWER\n",
    "# /ESHAPE,1\n",
    "# /VIEW,1,1,1,1\n",
    "# /OUT,\n",
    "# *GET,U2,NODE,16,U,Y\n",
    "# PLNSOL,S,X !BENDING STRESS\n",
    "# *GET,BEND_STRESS2,PLNSOL,0,MAX\n",
    "# *DIM,LABEL,CHAR,2,2\n",
    "# *DIM,VALUE,,2,3\n",
    "# *DIM,VALUE2,,2,3\n",
    "# LABEL(1,1) = 'DEFL','BEND_STRESS'\n",
    "# LABEL(1,2) = ' (in) ',' (psi) '\n",
    "# *VFILL,VALUE(1,1),DATA,.00500,3000\n",
    "# *VFILL,VALUE(1,2),DATA,U1,BEND_STRESS1\n",
    "# *VFILL,VALUE(1,3),DATA,ABS(U1/.005),ABS(BEND_STRESS1/3000)\n",
    "# SAVE,TABLE_3\n",
    "# *VFILL,VALUE2(1,1),DATA,.00500,4050\n",
    "# *VFILL,VALUE2(1,2),DATA,U2,BEND_STRESS2\n",
    "# *VFILL,VALUE2(1,3),DATA,ABS(U2/.005),ABS(BEND_STRESS2/4050)\n",
    "# SAVE,TABLE_4"
   ]
  },
  {
   "cell_type": "code",
   "execution_count": 15,
   "metadata": {},
   "outputs": [],
   "source": []
  }
 ],
 "metadata": {
  "kernelspec": {
   "display_name": "Python 3",
   "language": "python",
   "name": "python3"
  },
  "language_info": {
   "codemirror_mode": {
    "name": "ipython",
    "version": 3
   },
   "file_extension": ".py",
   "mimetype": "text/x-python",
   "name": "python",
   "nbconvert_exporter": "python",
   "pygments_lexer": "ipython3",
   "version": "3.7.5"
  }
 },
 "nbformat": 4,
 "nbformat_minor": 1
}