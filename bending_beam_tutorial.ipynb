{
 "cells": [
  {
   "cell_type": "markdown",
   "source": [
    "Bending Beam PyMAPDL tutorial\n",
    "=============================\n",
    "First we need to launch an MAPDL instance calling launch_mapdl(). The return value is an object used\n",
    "to access this instance via methods."
   ],
   "metadata": {
    "collapsed": false,
    "pycharm": {
     "name": "#%% md\n"
    }
   }
  },
  {
   "cell_type": "code",
   "execution_count": 61,
   "metadata": {},
   "outputs": [
    {
     "name": "stdout",
     "output_type": "stream",
     "text": [
      "Product:         ANSYS Academic Research\n",
      "MAPDL Version:   RELEASE  Release 19.1      BUILD 19.1      UPDATE 20180418\n",
      "PyMAPDL Version: 0.58.8\n",
      "\n"
     ]
    }
   ],
   "source": [
    "import numpy as np\n",
    "from ansys.mapdl.core import launch_mapdl\n",
    "from bending_beam import Beam, reset_mapdl, create_geometry_v1\n",
    "mapdl = launch_mapdl()\n",
    "print(mapdl)  # show ANSYS version and PyMAPDL version"
   ]
  },
  {
   "cell_type": "code",
   "execution_count": 62,
   "outputs": [],
   "source": [
    "# clean up potential previous data inside MAPDL\n",
    "mapdl.finish()\n",
    "mapdl.clear()"
   ],
   "metadata": {
    "collapsed": false,
    "pycharm": {
     "name": "#%%\n"
    }
   }
  },
  {
   "cell_type": "markdown",
   "source": [
    "Now we can define variables for the bending beam geometry and some kind of load."
   ],
   "metadata": {
    "collapsed": false,
    "pycharm": {
     "name": "#%% md\n"
    }
   }
  },
  {
   "cell_type": "code",
   "execution_count": 63,
   "outputs": [],
   "source": [
    "# --------------------------------------------------------------------------\n",
    "# ------------------------------ parameters --------------------------------\n",
    "# --------------------------------------------------------------------------\n",
    "# units SI [Pa, N, m, Nm]\n",
    "E_beam = Beam.E  # 70e9\n",
    "pr_beam = 0.0\n",
    "length = 0.1\n",
    "height = 0.02\n",
    "depth = 0.01\n",
    "M = 2000\n",
    "F = 3000\n",
    "\n",
    "et_num_beam = 1\n",
    "mat_num_beam = 1\n",
    "element_type_beam = \"plane_182\"  # more about element types later"
   ],
   "metadata": {
    "collapsed": false,
    "pycharm": {
     "name": "#%%\n"
    }
   }
  },
  {
   "cell_type": "markdown",
   "source": [
    "Lets start to give commands to MAPDL. Fist we define an element type to use for the beam and set\n",
    "material data E und PR (Poisson ratio)."
   ],
   "metadata": {
    "collapsed": false,
    "pycharm": {
     "name": "#%% md\n"
    }
   }
  },
  {
   "cell_type": "code",
   "execution_count": 64,
   "outputs": [],
   "source": [
    "mapdl.prep7()\n",
    "mapdl.antype(\"static\")\n",
    "mapdl.et(itype=et_num_beam, ename=element_type_beam)\n",
    "# mapdl.keyopt(1, 1, 3)  # IMPLIFIED ENHANCED STRAIN FORMULATION\n",
    "mapdl.mp(\"ex\", mat=mat_num_beam, c0=E_beam)\n",
    "mapdl.mp(\"nuxy\", mat_num_beam, c0=pr_beam);"
   ],
   "metadata": {
    "collapsed": false,
    "pycharm": {
     "name": "#%%\n"
    }
   }
  },
  {
   "cell_type": "markdown",
   "source": [
    "Now it's time to create the geometry."
   ],
   "metadata": {
    "collapsed": false,
    "pycharm": {
     "name": "#%% md\n"
    }
   }
  },
  {
   "cell_type": "code",
   "execution_count": 65,
   "outputs": [
    {
     "name": "stdout",
     "output_type": "stream",
     "text": [
      "[1, 2, 3, 4, 5, 6]\n"
     ]
    },
    {
     "data": {
      "text/plain": "<PIL.Image.Image image mode=RGB size=1024x768 at 0x2030060FEC8>",
      "image/png": "[encoded data removed]"
     },
     "metadata": {},
     "output_type": "display_data"
    },
    {
     "data": {
      "text/plain": "[(0.05, 0.01, 0.1970109854772478),\n (0.05, 0.01, 0.0),\n (0.0, 1.0, 0.0)]"
     },
     "execution_count": 65,
     "metadata": {},
     "output_type": "execute_result"
    }
   ],
   "source": [
    "beam_nodes_x = 6\n",
    "beam_nodes_y = 2\n",
    "nodes = []\n",
    "for x in np.linspace(0, length, beam_nodes_x):\n",
    "    nodes.append(mapdl.n(x=x))\n",
    "print(nodes)\n",
    "mapdl.ngen(3, 10, node1=nodes[0], node2=nodes[-1], ninc=1, dy=height*0.5)\n",
    "mapdl.nplot(knum=True, cpos='xy')#, title =\"asd\")"
   ],
   "metadata": {
    "collapsed": false,
    "pycharm": {
     "name": "#%%\n"
    }
   }
  },
  {
   "cell_type": "code",
   "source": [
    "e0 = mapdl.e(1, 2, 12, 11)\n",
    "e1 = mapdl.e(11, 12, 22, 21)\n",
    "mapdl.egen(5, ninc=1, iel1=e0, iel2=e1)\n",
    "#mapdl.open_gui()"
   ],
   "metadata": {
    "collapsed": false,
    "pycharm": {
     "name": "#%%\n"
    }
   },
   "execution_count": 66,
   "outputs": [
    {
     "data": {
      "text/plain": "'GENERATE       5 TOTAL SETS OF ELEMENTS WITH NODE INCREMENT OF         1\\n   SET IS SELECTED ELEMENTS IN RANGE         1 TO         2 IN STEPS OF       1\\n\\n MAXIMUM ELEMENT NUMBER=        10'"
     },
     "execution_count": 66,
     "metadata": {},
     "output_type": "execute_result"
    }
   ]
  },
  {
   "cell_type": "markdown",
   "source": [],
   "metadata": {
    "collapsed": false
   }
  },
  {
   "cell_type": "code",
   "source": [
    "# VM16, CASE 1 - END MOMENT, ROARK, PAGE 106, NO. 9\n",
    "mapdl.d(1, \"all\", nend=21, ninc=10)\n",
    "# mapdl.f(6, \"fx\", 1000)\n",
    "# mapdl.f(26, \"fx\", -1000)\n",
    "mapdl.f(16, \"mx\", 2000)\n",
    "mapdl.outpr(\"nsol\", 1)\n",
    "mapdl.outpr(\"esol\", 1)\n",
    "mapdl.finish()\n",
    "mapdl.run(\"/solu\")\n",
    "mapdl.output(\"SCRATCH\")\n",
    "mapdl.solve()\n",
    "mapdl.post1()\n",
    "mapdl.set(\"last\")\n",
    "mapdl.graphics(\"power\")\n",
    "mapdl.eshape(scale=1)\n",
    "mapdl.view(1, 1, 1, 1)\n",
    "mapdl.output()\n",
    "bend_stress1 = mapdl.result.nodal_stress(0)[1].max()\n",
    "u1 = mapdl.get_value(\"node\", 26, \"u\", \"y\")\n",
    "\n",
    "mapdl.exit()\n",
    "# FINI\n",
    "# /SOLU\n",
    "# /COM, VM16, CASE 2 - END LOAD, ROARK, PAGE 104, NO. 1\n",
    "# F,6,FX,,,16,10\n",
    "# F,6,FY,150,,16,10\n",
    "# /OUT,SCRATCH\n",
    "# SOLVE\n",
    "# FINISH\n",
    "# /POST1\n",
    "# SET,LAST\n",
    "# /GRAPHICS,POWER\n",
    "# /ESHAPE,1\n",
    "# /VIEW,1,1,1,1\n",
    "# /OUT,\n",
    "# *GET,U2,NODE,16,U,Y\n",
    "# PLNSOL,S,X !BENDING STRESS\n",
    "# *GET,BEND_STRESS2,PLNSOL,0,MAX\n",
    "# *DIM,LABEL,CHAR,2,2\n",
    "# *DIM,VALUE,,2,3\n",
    "# *DIM,VALUE2,,2,3\n",
    "# LABEL(1,1) = 'DEFL','BEND_STRESS'\n",
    "# LABEL(1,2) = ' (in) ',' (psi) '\n",
    "# *VFILL,VALUE(1,1),DATA,.00500,3000\n",
    "# *VFILL,VALUE(1,2),DATA,U1,BEND_STRESS1\n",
    "# *VFILL,VALUE(1,3),DATA,ABS(U1/.005),ABS(BEND_STRESS1/3000)\n",
    "# SAVE,TABLE_3\n",
    "# *VFILL,VALUE2(1,1),DATA,.00500,4050\n",
    "# *VFILL,VALUE2(1,2),DATA,U2,BEND_STRESS2\n",
    "# *VFILL,VALUE2(1,3),DATA,ABS(U2/.005),ABS(BEND_STRESS2/4050)\n",
    "# SAVE,TABLE_4"
   ],
   "metadata": {
    "collapsed": false,
    "pycharm": {
     "name": "#%%\n"
    }
   },
   "execution_count": 67,
   "outputs": [
    {
     "ename": "EAnsysUnknown",
     "evalue": "AAS_CORBA.MAPDL.Exceptions.EAnsysUnknown(code=-15, description='Low-level communication error -15: Connection was closed', scope='MAPDL', interfaceName='ICoMapdlUnit', operation='executeCommand', moreInfo='SOLVE,')",
     "output_type": "error",
     "traceback": [
      "\u001B[1;31m---------------------------------------------------------------------------\u001B[0m",
      "\u001B[1;31mEAnsysUnknown\u001B[0m                             Traceback (most recent call last)",
      "\u001B[1;32m<ipython-input-67-cf4787700b6b>\u001B[0m in \u001B[0;36m<module>\u001B[1;34m\u001B[0m\n\u001B[0;32m      9\u001B[0m \u001B[0mmapdl\u001B[0m\u001B[1;33m.\u001B[0m\u001B[0mrun\u001B[0m\u001B[1;33m(\u001B[0m\u001B[1;34m\"/solu\"\u001B[0m\u001B[1;33m)\u001B[0m\u001B[1;33m\u001B[0m\u001B[1;33m\u001B[0m\u001B[0m\n\u001B[0;32m     10\u001B[0m \u001B[0mmapdl\u001B[0m\u001B[1;33m.\u001B[0m\u001B[0moutput\u001B[0m\u001B[1;33m(\u001B[0m\u001B[1;34m\"SCRATCH\"\u001B[0m\u001B[1;33m)\u001B[0m\u001B[1;33m\u001B[0m\u001B[1;33m\u001B[0m\u001B[0m\n\u001B[1;32m---> 11\u001B[1;33m \u001B[0mmapdl\u001B[0m\u001B[1;33m.\u001B[0m\u001B[0msolve\u001B[0m\u001B[1;33m(\u001B[0m\u001B[1;33m)\u001B[0m\u001B[1;33m\u001B[0m\u001B[1;33m\u001B[0m\u001B[0m\n\u001B[0m\u001B[0;32m     12\u001B[0m \u001B[0mmapdl\u001B[0m\u001B[1;33m.\u001B[0m\u001B[0mpost1\u001B[0m\u001B[1;33m(\u001B[0m\u001B[1;33m)\u001B[0m\u001B[1;33m\u001B[0m\u001B[1;33m\u001B[0m\u001B[0m\n\u001B[0;32m     13\u001B[0m \u001B[0mmapdl\u001B[0m\u001B[1;33m.\u001B[0m\u001B[0mset\u001B[0m\u001B[1;33m(\u001B[0m\u001B[1;34m\"last\"\u001B[0m\u001B[1;33m)\u001B[0m\u001B[1;33m\u001B[0m\u001B[1;33m\u001B[0m\u001B[0m\n",
      "\u001B[1;32md:\\myansys\\pymapdl_tutorial\\venv\\lib\\site-packages\\ansys\\mapdl\\core\\mapdl_functions.py\u001B[0m in \u001B[0;36msolve\u001B[1;34m(self, action, **kwargs)\u001B[0m\n\u001B[0;32m  30735\u001B[0m         \"\"\"\n\u001B[0;32m  30736\u001B[0m         \u001B[0mcommand\u001B[0m \u001B[1;33m=\u001B[0m \u001B[1;34m\"SOLVE,%s\"\u001B[0m \u001B[1;33m%\u001B[0m \u001B[1;33m(\u001B[0m\u001B[0mstr\u001B[0m\u001B[1;33m(\u001B[0m\u001B[0maction\u001B[0m\u001B[1;33m)\u001B[0m\u001B[1;33m)\u001B[0m\u001B[1;33m\u001B[0m\u001B[1;33m\u001B[0m\u001B[0m\n\u001B[1;32m> 30737\u001B[1;33m         \u001B[1;32mreturn\u001B[0m \u001B[0mself\u001B[0m\u001B[1;33m.\u001B[0m\u001B[0mrun\u001B[0m\u001B[1;33m(\u001B[0m\u001B[0mcommand\u001B[0m\u001B[1;33m,\u001B[0m \u001B[1;33m**\u001B[0m\u001B[0mkwargs\u001B[0m\u001B[1;33m)\u001B[0m\u001B[1;33m\u001B[0m\u001B[1;33m\u001B[0m\u001B[0m\n\u001B[0m\u001B[0;32m  30738\u001B[0m \u001B[1;33m\u001B[0m\u001B[0m\n\u001B[0;32m  30739\u001B[0m     \u001B[1;32mdef\u001B[0m \u001B[0mnora\u001B[0m\u001B[1;33m(\u001B[0m\u001B[0mself\u001B[0m\u001B[1;33m,\u001B[0m \u001B[0marea\u001B[0m\u001B[1;33m=\u001B[0m\u001B[1;34m\"\"\u001B[0m\u001B[1;33m,\u001B[0m \u001B[0mndir\u001B[0m\u001B[1;33m=\u001B[0m\u001B[1;34m\"\"\u001B[0m\u001B[1;33m,\u001B[0m \u001B[1;33m**\u001B[0m\u001B[0mkwargs\u001B[0m\u001B[1;33m)\u001B[0m\u001B[1;33m:\u001B[0m\u001B[1;33m\u001B[0m\u001B[1;33m\u001B[0m\u001B[0m\n",
      "\u001B[1;32md:\\myansys\\pymapdl_tutorial\\venv\\lib\\site-packages\\ansys\\mapdl\\core\\mapdl.py\u001B[0m in \u001B[0;36mrun\u001B[1;34m(self, command, write_to_log, **kwargs)\u001B[0m\n\u001B[0;32m   1858\u001B[0m         \u001B[1;32melif\u001B[0m \u001B[0mwrite_to_log\u001B[0m \u001B[1;32mand\u001B[0m \u001B[0mself\u001B[0m\u001B[1;33m.\u001B[0m\u001B[0m_apdl_log\u001B[0m \u001B[1;32mis\u001B[0m \u001B[1;32mnot\u001B[0m \u001B[1;32mNone\u001B[0m\u001B[1;33m:\u001B[0m\u001B[1;33m\u001B[0m\u001B[1;33m\u001B[0m\u001B[0m\n\u001B[0;32m   1859\u001B[0m             \u001B[1;32mif\u001B[0m \u001B[1;32mnot\u001B[0m \u001B[0mself\u001B[0m\u001B[1;33m.\u001B[0m\u001B[0m_apdl_log\u001B[0m\u001B[1;33m.\u001B[0m\u001B[0mclosed\u001B[0m\u001B[1;33m:\u001B[0m\u001B[1;33m\u001B[0m\u001B[1;33m\u001B[0m\u001B[0m\n\u001B[1;32m-> 1860\u001B[1;33m                 \u001B[0mself\u001B[0m\u001B[1;33m.\u001B[0m\u001B[0m_apdl_log\u001B[0m\u001B[1;33m.\u001B[0m\u001B[0mwrite\u001B[0m\u001B[1;33m(\u001B[0m\u001B[1;34m'%s\\n'\u001B[0m \u001B[1;33m%\u001B[0m \u001B[0mcommand\u001B[0m\u001B[1;33m)\u001B[0m\u001B[1;33m\u001B[0m\u001B[1;33m\u001B[0m\u001B[0m\n\u001B[0m\u001B[0;32m   1861\u001B[0m \u001B[1;33m\u001B[0m\u001B[0m\n\u001B[0;32m   1862\u001B[0m         \u001B[1;32mif\u001B[0m \u001B[0mcommand\u001B[0m\u001B[1;33m[\u001B[0m\u001B[1;33m:\u001B[0m\u001B[1;36m4\u001B[0m\u001B[1;33m]\u001B[0m\u001B[1;33m.\u001B[0m\u001B[0mupper\u001B[0m\u001B[1;33m(\u001B[0m\u001B[1;33m)\u001B[0m \u001B[1;33m==\u001B[0m \u001B[1;34m'/LIS'\u001B[0m\u001B[1;33m:\u001B[0m\u001B[1;33m\u001B[0m\u001B[1;33m\u001B[0m\u001B[0m\n",
      "\u001B[1;32md:\\myansys\\pymapdl_tutorial\\venv\\lib\\site-packages\\ansys\\mapdl\\core\\mapdl_corba.py\u001B[0m in \u001B[0;36m_run\u001B[1;34m(self, command, **kwargs)\u001B[0m\n\u001B[0;32m    332\u001B[0m \u001B[1;33m\u001B[0m\u001B[0m\n\u001B[0;32m    333\u001B[0m         \u001B[0mself\u001B[0m\u001B[1;33m.\u001B[0m\u001B[0m_log\u001B[0m\u001B[1;33m.\u001B[0m\u001B[0mdebug\u001B[0m\u001B[1;33m(\u001B[0m\u001B[1;34m'Running command %s'\u001B[0m\u001B[1;33m,\u001B[0m \u001B[0mcommand\u001B[0m\u001B[1;33m)\u001B[0m\u001B[1;33m\u001B[0m\u001B[1;33m\u001B[0m\u001B[0m\n\u001B[1;32m--> 334\u001B[1;33m         \u001B[0mtext\u001B[0m \u001B[1;33m=\u001B[0m \u001B[0mself\u001B[0m\u001B[1;33m.\u001B[0m\u001B[0m_server\u001B[0m\u001B[1;33m.\u001B[0m\u001B[0mexecuteCommandToString\u001B[0m\u001B[1;33m(\u001B[0m\u001B[0mcommand\u001B[0m\u001B[1;33m)\u001B[0m\u001B[1;33m\u001B[0m\u001B[1;33m\u001B[0m\u001B[0m\n\u001B[0m\u001B[0;32m    335\u001B[0m \u001B[1;33m\u001B[0m\u001B[0m\n\u001B[0;32m    336\u001B[0m         \u001B[1;31m# print suppressed output\u001B[0m\u001B[1;33m\u001B[0m\u001B[1;33m\u001B[0m\u001B[1;33m\u001B[0m\u001B[0m\n",
      "\u001B[1;32md:\\myansys\\pymapdl_tutorial\\venv\\lib\\site-packages\\ansys_corba\\ICoMapdlUnit_idl.py\u001B[0m in \u001B[0;36mexecuteCommandToString\u001B[1;34m(self, *args)\u001B[0m\n\u001B[0;32m    204\u001B[0m \u001B[1;33m\u001B[0m\u001B[0m\n\u001B[0;32m    205\u001B[0m     \u001B[1;32mdef\u001B[0m \u001B[0mexecuteCommandToString\u001B[0m\u001B[1;33m(\u001B[0m\u001B[0mself\u001B[0m\u001B[1;33m,\u001B[0m \u001B[1;33m*\u001B[0m\u001B[0margs\u001B[0m\u001B[1;33m)\u001B[0m\u001B[1;33m:\u001B[0m\u001B[1;33m\u001B[0m\u001B[1;33m\u001B[0m\u001B[0m\n\u001B[1;32m--> 206\u001B[1;33m         \u001B[1;32mreturn\u001B[0m \u001B[0mself\u001B[0m\u001B[1;33m.\u001B[0m\u001B[0m_obj\u001B[0m\u001B[1;33m.\u001B[0m\u001B[0minvoke\u001B[0m\u001B[1;33m(\u001B[0m\u001B[1;34m\"executeCommandToString\"\u001B[0m\u001B[1;33m,\u001B[0m \u001B[0m_0_AAS_CORBA\u001B[0m\u001B[1;33m.\u001B[0m\u001B[0mMAPDL\u001B[0m\u001B[1;33m.\u001B[0m\u001B[0mSolvers\u001B[0m\u001B[1;33m.\u001B[0m\u001B[0mICoMapdlUnit\u001B[0m\u001B[1;33m.\u001B[0m\u001B[0m_d_executeCommandToString\u001B[0m\u001B[1;33m,\u001B[0m \u001B[0margs\u001B[0m\u001B[1;33m)\u001B[0m\u001B[1;33m\u001B[0m\u001B[1;33m\u001B[0m\u001B[0m\n\u001B[0m\u001B[0;32m    207\u001B[0m \u001B[1;33m\u001B[0m\u001B[0m\n\u001B[0;32m    208\u001B[0m     \u001B[1;32mdef\u001B[0m \u001B[0mterminate\u001B[0m\u001B[1;33m(\u001B[0m\u001B[0mself\u001B[0m\u001B[1;33m,\u001B[0m \u001B[1;33m*\u001B[0m\u001B[0margs\u001B[0m\u001B[1;33m)\u001B[0m\u001B[1;33m:\u001B[0m\u001B[1;33m\u001B[0m\u001B[1;33m\u001B[0m\u001B[0m\n",
      "\u001B[1;31mEAnsysUnknown\u001B[0m: AAS_CORBA.MAPDL.Exceptions.EAnsysUnknown(code=-15, description='Low-level communication error -15: Connection was closed', scope='MAPDL', interfaceName='ICoMapdlUnit', operation='executeCommand', moreInfo='SOLVE,')"
     ]
    }
   ]
  },
  {
   "cell_type": "code",
   "execution_count": null,
   "metadata": {},
   "outputs": [],
   "source": []
  }
 ],
 "metadata": {
  "kernelspec": {
   "display_name": "Python 3",
   "language": "python",
   "name": "python3"
  },
  "language_info": {
   "codemirror_mode": {
    "name": "ipython",
    "version": 3
   },
   "file_extension": ".py",
   "mimetype": "text/x-python",
   "name": "python",
   "nbconvert_exporter": "python",
   "pygments_lexer": "ipython3",
   "version": "3.7.5"
  }
 },
 "nbformat": 4,
 "nbformat_minor": 1
}